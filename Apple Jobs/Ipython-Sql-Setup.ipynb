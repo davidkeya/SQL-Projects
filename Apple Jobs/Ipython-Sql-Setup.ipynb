{
 "cells": [
  {
   "cell_type": "code",
   "execution_count": 6,
   "metadata": {},
   "outputs": [
    {
     "name": "stdout",
     "output_type": "stream",
     "text": [
      "Collecting ipython-sql\n",
      "  Using cached ipython_sql-0.4.0-py3-none-any.whl (19 kB)\n",
      "Collecting sqlparse\n",
      "  Using cached sqlparse-0.4.1-py3-none-any.whl (42 kB)\n",
      "Collecting prettytable<1\n",
      "  Using cached prettytable-0.7.2.tar.bz2 (21 kB)\n",
      "Requirement already satisfied: six in /Users/davidkeya/.pyenv/versions/3.8.0/lib/python3.8/site-packages (from ipython-sql) (1.15.0)\n",
      "Requirement already satisfied: ipython-genutils>=0.1.0 in /Users/davidkeya/.pyenv/versions/3.8.0/lib/python3.8/site-packages (from ipython-sql) (0.2.0)\n",
      "Requirement already satisfied: sqlalchemy>=0.6.7 in /Users/davidkeya/.pyenv/versions/3.8.0/lib/python3.8/site-packages (from ipython-sql) (1.3.20)\n",
      "Requirement already satisfied: ipython>=1.0 in /Users/davidkeya/.pyenv/versions/3.8.0/lib/python3.8/site-packages (from ipython-sql) (7.18.1)\n",
      "Requirement already satisfied: jedi>=0.10 in /Users/davidkeya/.pyenv/versions/3.8.0/lib/python3.8/site-packages (from ipython>=1.0->ipython-sql) (0.17.2)\n",
      "Requirement already satisfied: pygments in /Users/davidkeya/.pyenv/versions/3.8.0/lib/python3.8/site-packages (from ipython>=1.0->ipython-sql) (2.7.2)\n",
      "Requirement already satisfied: prompt-toolkit!=3.0.0,!=3.0.1,<3.1.0,>=2.0.0 in /Users/davidkeya/.pyenv/versions/3.8.0/lib/python3.8/site-packages (from ipython>=1.0->ipython-sql) (3.0.8)\n",
      "Requirement already satisfied: pexpect>4.3; sys_platform != \"win32\" in /Users/davidkeya/.pyenv/versions/3.8.0/lib/python3.8/site-packages (from ipython>=1.0->ipython-sql) (4.8.0)\n",
      "Requirement already satisfied: appnope; sys_platform == \"darwin\" in /Users/davidkeya/.pyenv/versions/3.8.0/lib/python3.8/site-packages (from ipython>=1.0->ipython-sql) (0.1.0)\n",
      "Requirement already satisfied: setuptools>=18.5 in /Users/davidkeya/.pyenv/versions/3.8.0/lib/python3.8/site-packages (from ipython>=1.0->ipython-sql) (41.2.0)\n",
      "Requirement already satisfied: backcall in /Users/davidkeya/.pyenv/versions/3.8.0/lib/python3.8/site-packages (from ipython>=1.0->ipython-sql) (0.2.0)\n",
      "Requirement already satisfied: traitlets>=4.2 in /Users/davidkeya/.pyenv/versions/3.8.0/lib/python3.8/site-packages (from ipython>=1.0->ipython-sql) (5.0.5)\n",
      "Requirement already satisfied: decorator in /Users/davidkeya/.pyenv/versions/3.8.0/lib/python3.8/site-packages (from ipython>=1.0->ipython-sql) (4.4.2)\n",
      "Requirement already satisfied: pickleshare in /Users/davidkeya/.pyenv/versions/3.8.0/lib/python3.8/site-packages (from ipython>=1.0->ipython-sql) (0.7.5)\n",
      "Requirement already satisfied: parso<0.8.0,>=0.7.0 in /Users/davidkeya/.pyenv/versions/3.8.0/lib/python3.8/site-packages (from jedi>=0.10->ipython>=1.0->ipython-sql) (0.7.1)\n",
      "Requirement already satisfied: wcwidth in /Users/davidkeya/.pyenv/versions/3.8.0/lib/python3.8/site-packages (from prompt-toolkit!=3.0.0,!=3.0.1,<3.1.0,>=2.0.0->ipython>=1.0->ipython-sql) (0.2.5)\n",
      "Requirement already satisfied: ptyprocess>=0.5 in /Users/davidkeya/.pyenv/versions/3.8.0/lib/python3.8/site-packages (from pexpect>4.3; sys_platform != \"win32\"->ipython>=1.0->ipython-sql) (0.6.0)\n",
      "Using legacy 'setup.py install' for prettytable, since package 'wheel' is not installed.\n",
      "Installing collected packages: sqlparse, prettytable, ipython-sql\n",
      "    Running setup.py install for prettytable ... \u001b[?25ldone\n",
      "\u001b[?25hSuccessfully installed ipython-sql-0.4.0 prettytable-0.7.2 sqlparse-0.4.1\n"
     ]
    }
   ],
   "source": [
    "!pip install ipython-sql"
   ]
  },
  {
   "cell_type": "code",
   "execution_count": 3,
   "metadata": {},
   "outputs": [
    {
     "name": "stdout",
     "output_type": "stream",
     "text": [
      "Collecting pandas\n",
      "  Downloading pandas-1.1.3.tar.gz (5.2 MB)\n",
      "\u001b[K     |████████████████████████████████| 5.2 MB 2.4 MB/s eta 0:00:01\n",
      "\u001b[?25h  Installing build dependencies ... \u001b[?25ldone\n",
      "\u001b[?25h  Getting requirements to build wheel ... \u001b[?25ldone\n",
      "\u001b[?25h    Preparing wheel metadata ... \u001b[?25ldone\n",
      "\u001b[?25hRequirement already satisfied: python-dateutil>=2.7.3 in /Users/davidkeya/.pyenv/versions/3.9.0/lib/python3.9/site-packages (from pandas) (2.8.1)\n",
      "Collecting pytz>=2017.2\n",
      "  Using cached pytz-2020.1-py2.py3-none-any.whl (510 kB)\n",
      "Collecting numpy>=1.15.4\n",
      "  Downloading numpy-1.19.2.zip (7.3 MB)\n",
      "\u001b[K     |████████████████████████████████| 7.3 MB 19.8 MB/s eta 0:00:01\n",
      "\u001b[?25h  Installing build dependencies ... \u001b[?25ldone\n",
      "\u001b[?25h  Getting requirements to build wheel ... \u001b[?25ldone\n",
      "\u001b[?25h    Preparing wheel metadata ... \u001b[?25ldone\n",
      "\u001b[?25hRequirement already satisfied: six>=1.5 in /Users/davidkeya/.pyenv/versions/3.9.0/lib/python3.9/site-packages (from python-dateutil>=2.7.3->pandas) (1.15.0)\n",
      "Building wheels for collected packages: pandas, numpy\n",
      "  Building wheel for pandas (PEP 517) ... \u001b[?25ldone\n",
      "\u001b[?25h  Created wheel for pandas: filename=pandas-1.1.3-cp39-cp39-macosx_10_15_x86_64.whl size=10320476 sha256=a96b7da3a9c82ba6b991b9dc012abd092d6b09329ab43f23bded8b3884ca540d\n",
      "  Stored in directory: /Users/davidkeya/Library/Caches/pip/wheels/55/97/44/3b88dc6fb1b0865602c3c024b7edd96afd0f87e7e3e62df10b\n",
      "  Building wheel for numpy (PEP 517) ... \u001b[?25ldone\n",
      "\u001b[?25h  Created wheel for numpy: filename=numpy-1.19.2-cp39-cp39-macosx_10_15_x86_64.whl size=4625061 sha256=fc4c52cb062f4a24e07d4a0083de8e26438a007ae51763c08dac35505eaaafff\n",
      "  Stored in directory: /Users/davidkeya/Library/Caches/pip/wheels/a3/17/dd/f2dba23a35bb6008732772ccfb13d3d0e537fbc6919ce6862b\n",
      "Successfully built pandas numpy\n",
      "Installing collected packages: pytz, numpy, pandas\n",
      "Successfully installed numpy-1.19.2 pandas-1.1.3 pytz-2020.1\n",
      "\u001b[33mWARNING: You are using pip version 20.2.3; however, version 20.2.4 is available.\n",
      "You should consider upgrading via the '/Users/davidkeya/.pyenv/versions/3.9.0/bin/python3.9 -m pip install --upgrade pip' command.\u001b[0m\n"
     ]
    }
   ],
   "source": [
    "!pip install pandas"
   ]
  },
  {
   "cell_type": "code",
   "execution_count": 1,
   "metadata": {},
   "outputs": [],
   "source": [
    "import pandas as pd"
   ]
  },
  {
   "cell_type": "code",
   "execution_count": 2,
   "metadata": {},
   "outputs": [],
   "source": [
    "import sqlite3"
   ]
  },
  {
   "cell_type": "code",
   "execution_count": 5,
   "metadata": {},
   "outputs": [
    {
     "name": "stdout",
     "output_type": "stream",
     "text": [
      "Collecting sqlalchemy\n",
      "  Downloading SQLAlchemy-1.3.20-cp38-cp38-macosx_10_14_x86_64.whl (1.2 MB)\n",
      "\u001b[K     |████████████████████████████████| 1.2 MB 2.3 MB/s eta 0:00:01\n",
      "\u001b[?25hInstalling collected packages: sqlalchemy\n",
      "Successfully installed sqlalchemy-1.3.20\n",
      "Note: you may need to restart the kernel to use updated packages.\n"
     ]
    }
   ],
   "source": [
    "pip install sqlalchemy"
   ]
  },
  {
   "cell_type": "code",
   "execution_count": 1,
   "metadata": {},
   "outputs": [
    {
     "name": "stdout",
     "output_type": "stream",
     "text": [
      "Requirement already satisfied: sqlalchemy in /Users/davidkeya/.pyenv/versions/3.8.0/lib/python3.8/site-packages (1.3.20)\n",
      "Note: you may need to restart the kernel to use updated packages.\n"
     ]
    }
   ],
   "source": [
    "pip install sqlalchemy\n"
   ]
  },
  {
   "cell_type": "code",
   "execution_count": 3,
   "metadata": {},
   "outputs": [
    {
     "name": "stdout",
     "output_type": "stream",
     "text": [
      "Collecting psycopg2-binary\n",
      "  Downloading psycopg2_binary-2.8.6-cp38-cp38-macosx_10_9_x86_64.macosx_10_9_intel.macosx_10_10_intel.macosx_10_10_x86_64.whl (1.5 MB)\n",
      "\u001b[K     |████████████████████████████████| 1.5 MB 2.4 MB/s eta 0:00:01\n",
      "\u001b[?25hInstalling collected packages: psycopg2-binary\n",
      "Successfully installed psycopg2-binary-2.8.6\n",
      "Note: you may need to restart the kernel to use updated packages.\n"
     ]
    }
   ],
   "source": [
    "pip install psycopg2-binary"
   ]
  },
  {
   "cell_type": "code",
   "execution_count": null,
   "metadata": {},
   "outputs": [],
   "source": []
  }
 ],
 "metadata": {
  "kernelspec": {
   "display_name": "Python 3",
   "language": "python",
   "name": "python3"
  },
  "language_info": {
   "codemirror_mode": {
    "name": "ipython",
    "version": 3
   },
   "file_extension": ".py",
   "mimetype": "text/x-python",
   "name": "python",
   "nbconvert_exporter": "python",
   "pygments_lexer": "ipython3",
   "version": "3.8.0"
  },
  "toc": {
   "base_numbering": 1,
   "nav_menu": {},
   "number_sections": true,
   "sideBar": true,
   "skip_h1_title": false,
   "title_cell": "Table of Contents",
   "title_sidebar": "Contents",
   "toc_cell": false,
   "toc_position": {},
   "toc_section_display": true,
   "toc_window_display": false
  }
 },
 "nbformat": 4,
 "nbformat_minor": 4
}
